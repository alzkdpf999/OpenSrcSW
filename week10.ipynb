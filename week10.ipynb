{
 "cells": [
  {
   "cell_type": "code",
   "execution_count": 5,
   "id": "e4e522ad",
   "metadata": {},
   "outputs": [
    {
     "name": "stdout",
     "output_type": "stream",
     "text": [
      "죽는 날까지 하늘을 우러러\n",
      "한 점 부끄럼이 없기를,\n",
      "잎새에 이는 바람에도\n",
      "너는 괴로워했다.\n",
      "별을 노래하는 마음으로\n",
      "모든 죽어가는 것을 사랑해야지\n",
      "그리고 너한테 주어진 길을\n",
      "걸어가야겠다.\n",
      "오늘 밤에도 별이 바람에 스치운다.\n"
     ]
    }
   ],
   "source": [
    "#1번 문제\n",
    "\n",
    "str = \"\"\"  죽는 날까지 하늘을 우러러\n",
    "한 점 부끄럼이 없기를,\n",
    "잎새에 이는 바람에도\n",
    "나는 괴로워했다.\n",
    "별을 노래하는 마음으로\n",
    "모든 죽어가는 것을 사랑해야지\n",
    "그리고 나한테 주어진 길을\n",
    "걸어가야겠다.\n",
    "오늘 밤에도 별이 바람에 스치운다.  \"\"\"\n",
    "str = str.strip()\n",
    "str = str.replace(\"나\",\"너\")\n",
    "print(str)"
   ]
  },
  {
   "cell_type": "code",
   "execution_count": 21,
   "id": "f3d5f115",
   "metadata": {},
   "outputs": [
    {
     "name": "stdout",
     "output_type": "stream",
     "text": [
      "Numbers=?10 456 87 78\n",
      "Max= 456\n"
     ]
    }
   ],
   "source": [
    "#2번 문제\n",
    "num = input(\"Numbers=?\")\n",
    "num=num.split()\n",
    "\n",
    "max = 0\n",
    "\n",
    "for i in range(len(num)):\n",
    "    if(max <= int(num[i])):\n",
    "        max = int(num[i])\n",
    "print(\"Max=\",max)"
   ]
  },
  {
   "cell_type": "code",
   "execution_count": 1,
   "id": "fccea341",
   "metadata": {},
   "outputs": [
    {
     "name": "stdout",
     "output_type": "stream",
     "text": [
      "\"abc def\" is encoded into \"efg!bcd\"\n",
      "\" efg!bcd \" is decoded into \" abc def \"\n"
     ]
    }
   ],
   "source": [
    "#3번 문제\n",
    "\n",
    "\n",
    "def conv(str,num):\n",
    "    newstr = \"\"\n",
    "    for i in str:\n",
    "        newstr +=chr(ord(i)+num)\n",
    "    return newstr\n",
    "\n",
    "def encode(str,key):\n",
    "    strlist = str.split()\n",
    "    strlist.reverse()\n",
    "    newstr=\" \".join(strlist)\n",
    "    return conv(newstr,key)\n",
    "\n",
    "def deckey(str,key):\n",
    "    str = conv(str,key*-1)\n",
    "    strlist = str.split()\n",
    "    strlist.reverse()\n",
    "    newstr = \" \".join(strlist)\n",
    "    return newstr\n",
    "\n",
    "str = \"abc def\"\n",
    "encodemake = encode(str,1)\n",
    "print(\"\\\"\" +str+ \"\\\" is encoded into \\\"\"+ encodemake+\"\\\"\")\n",
    "deckeymake = deckey(encodemake,1)\n",
    "print(\"\\\"\",encodemake,\"\\\" is decoded into \\\"\",deckeymake,\"\\\"\")\n"
   ]
  },
  {
   "cell_type": "code",
   "execution_count": null,
   "id": "b03a9602",
   "metadata": {},
   "outputs": [],
   "source": []
  }
 ],
 "metadata": {
  "kernelspec": {
   "display_name": "Python 3 (ipykernel)",
   "language": "python",
   "name": "python3"
  },
  "language_info": {
   "codemirror_mode": {
    "name": "ipython",
    "version": 3
   },
   "file_extension": ".py",
   "mimetype": "text/x-python",
   "name": "python",
   "nbconvert_exporter": "python",
   "pygments_lexer": "ipython3",
   "version": "3.10.4"
  }
 },
 "nbformat": 4,
 "nbformat_minor": 5
}
