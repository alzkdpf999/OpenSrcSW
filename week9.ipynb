{
 "cells": [
  {
   "cell_type": "code",
   "execution_count": 10,
   "id": "6d3eabe9",
   "metadata": {},
   "outputs": [
    {
     "name": "stdout",
     "output_type": "stream",
     "text": [
      "7 시 36 분\n"
     ]
    }
   ],
   "source": [
    "# 1번 문제\n",
    "a = 456 / 60\n",
    "b = 456 % 60\n",
    "print(int(a), \"시\", int(b),\"분\")"
   ]
  },
  {
   "cell_type": "code",
   "execution_count": 22,
   "id": "1f45dd5d",
   "metadata": {},
   "outputs": [
    {
     "data": {
      "text/plain": [
       "2.8"
      ]
     },
     "execution_count": 22,
     "metadata": {},
     "output_type": "execute_result"
    }
   ],
   "source": [
    "# 2 번문제\n",
    "d = dict(홍길동=3.4, 임꺽정=4.0, 김철수=2.8, 이영희=3.9)\n",
    "k = d.keys()\n",
    "k_list =list(k)\n",
    "k_list.sort()\n",
    "i = k_list[0]\n",
    "d.get(i)"
   ]
  },
  {
   "cell_type": "code",
   "execution_count": null,
   "id": "c7045412",
   "metadata": {},
   "outputs": [],
   "source": []
  }
 ],
 "metadata": {
  "kernelspec": {
   "display_name": "Python 3 (ipykernel)",
   "language": "python",
   "name": "python3"
  },
  "language_info": {
   "codemirror_mode": {
    "name": "ipython",
    "version": 3
   },
   "file_extension": ".py",
   "mimetype": "text/x-python",
   "name": "python",
   "nbconvert_exporter": "python",
   "pygments_lexer": "ipython3",
   "version": "3.10.4"
  }
 },
 "nbformat": 4,
 "nbformat_minor": 5
}
