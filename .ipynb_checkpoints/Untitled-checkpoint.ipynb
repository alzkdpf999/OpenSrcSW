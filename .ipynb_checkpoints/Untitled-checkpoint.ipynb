{
 "cells": [
  {
   "cell_type": "code",
   "execution_count": null,
   "id": "8ae6c75a",
   "metadata": {},
   "outputs": [],
   "source": [
    "x = float(input(\"x=\"))\n",
    "print(\"y=\",3*x**2+5*x+3)\n"
   ]
  },
  {
   "cell_type": "code",
   "execution_count": 3,
   "id": "f9c8b701",
   "metadata": {},
   "outputs": [
    {
     "name": "stdout",
     "output_type": "stream",
     "text": [
      "r=1\n",
      "반지름 1.0인 원의 넓이는 3.1이고 둘레는 6.3\n"
     ]
    }
   ],
   "source": [
    "pi = 3.14\n",
    "r = float(input(\"r=\"))\n",
    "print(\"반지름 {0:.1f}인 원의 넓이는 {1:.1f}이고 둘레는 {2:.1f}\".format(r,r**2*pi,2*pi*r))"
   ]
  },
  {
   "cell_type": "code",
   "execution_count": 7,
   "id": "bf2e5f19",
   "metadata": {},
   "outputs": [
    {
     "name": "stdout",
     "output_type": "stream",
     "text": [
      "국어=90\n",
      "영어=85\n",
      "수힉=72\n",
      "평균은 82.3이며,등급은 B입니다.\n"
     ]
    }
   ],
   "source": [
    "ko = int(input(\"국어=\"))\n",
    "en = int(input(\"영어=\"))\n",
    "ma = int(input(\"수힉=\"))\n",
    "aver = (ko + en + ma) / 3\n",
    "me =\"A\" if aver >= 90 else \"B\" if 80 <= aver < 90 else \"C\"\n",
    "print(\"평균은 {0:.1f}이며,등급은 {1:s}입니다.\".format(aver,me))"
   ]
  },
  {
   "cell_type": "code",
   "execution_count": null,
   "id": "2b271115",
   "metadata": {},
   "outputs": [],
   "source": [
    "line = int(input(\"Lines=\"))\n",
    "for i in range(line):\n",
    "    print(i)"
   ]
  },
  {
   "cell_type": "code",
   "execution_count": null,
   "id": "4c55b1f9",
   "metadata": {},
   "outputs": [],
   "source": []
  }
 ],
 "metadata": {
  "kernelspec": {
   "display_name": "Python 3 (ipykernel)",
   "language": "python",
   "name": "python3"
  },
  "language_info": {
   "codemirror_mode": {
    "name": "ipython",
    "version": 3
   },
   "file_extension": ".py",
   "mimetype": "text/x-python",
   "name": "python",
   "nbconvert_exporter": "python",
   "pygments_lexer": "ipython3",
   "version": "3.10.4"
  }
 },
 "nbformat": 4,
 "nbformat_minor": 5
}
