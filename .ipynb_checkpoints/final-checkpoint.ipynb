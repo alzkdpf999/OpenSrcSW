{
 "cells": [
  {
   "cell_type": "code",
   "execution_count": 5,
   "id": "c4a41e46",
   "metadata": {},
   "outputs": [
    {
     "name": "stdout",
     "output_type": "stream",
     "text": [
      "가장 많이 접종된 날짜:2021-06-28\n",
      "가장 적게 접종된 날짜:2021-01-28\n"
     ]
    }
   ],
   "source": [
    "import csv\n",
    "f=open('country_vaccinations.csv','r',encoding='cp949')\n",
    "\n",
    "data=csv.reader(f)\n",
    "next(data)\n",
    "mx=0\n",
    "mi=9999999999\n",
    "mxday=''\n",
    "miday=''\n",
    "for row in data:\n",
    "    if row[7]!='':\n",
    "        row[7]=int(row[7].replace('.',''))\n",
    "        if mx < row[7]:\n",
    "            mx=row[7]\n",
    "            mxday=row[2]\n",
    "        if mi > row[7]:\n",
    "            mi=row[7]\n",
    "            miday=row[2]\n",
    "print(\"가장 많이 접종된 날짜:{0:s}\".format(mxday))\n",
    "print(\"가장 적게 접종된 날짜:{0:s}\".format(miday))"
   ]
  },
  {
   "cell_type": "code",
   "execution_count": null,
   "id": "9c6a2dae",
   "metadata": {},
   "outputs": [],
   "source": [
    "import csv\n",
    "import pandas as pd\n",
    "f=open('country_vaccinations.csv','r',encoding='cp949')\n",
    "\n",
    "data=csv.reader(f)\n",
    "next(data)\n",
    "d={}\n",
    "\n",
    "i=0\n",
    "cont=''\n",
    "for row in data:\n",
    "    a=row[0]\n",
    "    if i==0:\n",
    "        cont=row[0]\n",
    "        vac=row[12].split(',')\n",
    "        i+=1\n",
    "   \n",
    "    vc=row[12].split(',')\n",
    "    for i in vac:\n",
    "        if i in vc:\n",
    "            d[cont]+=1\n",
    "        else:\n",
    "            d[cont]=1\n",
    "vac_list=list(d.keys())\n",
    "v_list=list(d.values())\n",
    "df=pd.DataFramea([[1],[2],[3]],index=vac_list,columns=v_list)"
   ]
  }
 ],
 "metadata": {
  "kernelspec": {
   "display_name": "Python 3 (ipykernel)",
   "language": "python",
   "name": "python3"
  },
  "language_info": {
   "codemirror_mode": {
    "name": "ipython",
    "version": 3
   },
   "file_extension": ".py",
   "mimetype": "text/x-python",
   "name": "python",
   "nbconvert_exporter": "python",
   "pygments_lexer": "ipython3",
   "version": "3.10.4"
  }
 },
 "nbformat": 4,
 "nbformat_minor": 5
}
