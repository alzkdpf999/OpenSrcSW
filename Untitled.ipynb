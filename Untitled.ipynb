{
 "cells": [
  {
   "cell_type": "code",
   "execution_count": null,
   "id": "8ae6c75a",
   "metadata": {},
   "outputs": [],
   "source": [
    "x = float(input(\"x=\"))\n",
    "print(\"y=\",3*x**2+5*x+3)\n"
   ]
  },
  {
   "cell_type": "code",
   "execution_count": 3,
   "id": "f9c8b701",
   "metadata": {},
   "outputs": [
    {
     "name": "stdout",
     "output_type": "stream",
     "text": [
      "r=1\n",
      "반지름 1.0인 원의 넓이는 3.1이고 둘레는 6.3\n"
     ]
    }
   ],
   "source": [
    "pi = 3.14\n",
    "r = float(input(\"r=\"))\n",
    "print(\"반지름 {0:.1f}인 원의 넓이는 {1:.1f}이고 둘레는 {2:.1f}\".format(r,r**2*pi,2*pi*r))"
   ]
  },
  {
   "cell_type": "code",
   "execution_count": 7,
   "id": "bf2e5f19",
   "metadata": {},
   "outputs": [
    {
     "name": "stdout",
     "output_type": "stream",
     "text": [
      "국어=90\n",
      "영어=85\n",
      "수힉=72\n",
      "평균은 82.3이며,등급은 B입니다.\n"
     ]
    }
   ],
   "source": [
    "ko = int(input(\"국어=\"))\n",
    "en = int(input(\"영어=\"))\n",
    "ma = int(input(\"수힉=\"))\n",
    "aver = (ko + en + ma) / 3\n",
    "me =\"A\" if aver >= 90 else \"B\" if 80 <= aver < 90 else \"C\"\n",
    "print(\"평균은 {0:.1f}이며,등급은 {1:s}입니다.\".format(aver,me))"
   ]
  },
  {
   "cell_type": "code",
   "execution_count": 15,
   "id": "2b271115",
   "metadata": {},
   "outputs": [
    {
     "name": "stdout",
     "output_type": "stream",
     "text": [
      "Lines=11\n",
      "10000000001\n",
      "01000000010\n",
      "00100000100\n",
      "00010001000\n",
      "00001010000\n",
      "00000100000\n",
      "00001010000\n",
      "00010001000\n",
      "00100000100\n",
      "01000000010\n",
      "10000000001\n"
     ]
    }
   ],
   "source": [
    "line = int(input(\"Lines=\"))\n",
    "for i in range(line):\n",
    "    str =\"\"\n",
    "    for j in range(line):\n",
    "        if (i == j) or ((line - 1) - i ==j):\n",
    "            str += \"1\"\n",
    "        else:\n",
    "            str += \"0\"\n",
    "    print(str)\n",
    "     \n",
    "\n",
    "       "
   ]
  },
  {
   "cell_type": "code",
   "execution_count": 28,
   "id": "4c55b1f9",
   "metadata": {},
   "outputs": [
    {
     "name": "stdout",
     "output_type": "stream",
     "text": [
      "dma=2\n",
      "이름=asd\n",
      "번호=123\n",
      "이름=dsa\n",
      "번호=321\n",
      "검색하세요:asd\n",
      "asd's phone num is 123\n"
     ]
    }
   ],
   "source": [
    "n = int(input(\"dma=\"))\n",
    "book= {}\n",
    "for i in range(n):\n",
    "    name = input(\"이름=\")\n",
    "    num = input(\"번호=\")\n",
    "    book[name]= num\n",
    "\n",
    "\n",
    "def search(book, name):\n",
    "    k = book[name]\n",
    "    if k :\n",
    "        return k\n",
    "    else :\n",
    "        return \"none\"\n",
    "\n",
    "v= input(\"검색하세요:\")\n",
    "a= search(book,v)\n",
    "print(\"{0:s}'s phone num is {1:s}\".format(v,a))\n",
    "    \n",
    "\n"
   ]
  },
  {
   "cell_type": "code",
   "execution_count": 29,
   "id": "909ed881",
   "metadata": {},
   "outputs": [
    {
     "name": "stdout",
     "output_type": "stream",
     "text": [
      "78.5 31.400000000000002\n"
     ]
    }
   ],
   "source": [
    "r= 5\n",
    "pi = 3.14\n",
    "print(r**2*pi, 2*pi*r)"
   ]
  },
  {
   "cell_type": "code",
   "execution_count": 30,
   "id": "ea1cd6fc",
   "metadata": {},
   "outputs": [
    {
     "name": "stdout",
     "output_type": "stream",
     "text": [
      "True\n"
     ]
    }
   ],
   "source": [
    "a= 1+3j\n",
    "b= 2+1j\n",
    "c= a + b\n",
    "d = c == 3+4j\n",
    "print(d)"
   ]
  },
  {
   "cell_type": "code",
   "execution_count": 31,
   "id": "c459642a",
   "metadata": {},
   "outputs": [
    {
     "name": "stdout",
     "output_type": "stream",
     "text": [
      "[5, 4, 3, 2, 1] ['ghi', 'def', 'abc']\n"
     ]
    }
   ],
   "source": [
    "nums = [1,2,3,4,5]\n",
    "strs=['abc','def','ghi']\n",
    "nums.reverse()\n",
    "strs.reverse()\n",
    "print(nums,strs)"
   ]
  },
  {
   "cell_type": "code",
   "execution_count": 32,
   "id": "43650941",
   "metadata": {},
   "outputs": [
    {
     "name": "stdout",
     "output_type": "stream",
     "text": [
      "7시 36분\n"
     ]
    }
   ],
   "source": [
    "a = int(456/60)\n",
    "b = int(456%60)\n",
    "print(\"{0:d}시 {1:d}분\".format(a,b))"
   ]
  },
  {
   "cell_type": "code",
   "execution_count": 33,
   "id": "f671c399",
   "metadata": {},
   "outputs": [
    {
     "name": "stdout",
     "output_type": "stream",
     "text": [
      "2.8\n"
     ]
    }
   ],
   "source": [
    "d =dict(홍길동=3.4,임꺽정=4.0,김철수=2.8,이영희=3.9)\n",
    "k = d.keys()\n",
    "k_list=list(k)\n",
    "k_list.sort()\n",
    "a=d.get(k_list[0])\n",
    "print(a)"
   ]
  },
  {
   "cell_type": "code",
   "execution_count": 40,
   "id": "d231e246",
   "metadata": {},
   "outputs": [
    {
     "name": "stdout",
     "output_type": "stream",
     "text": [
      "죽는 날까지 하늘을 우러러\n",
      "한 점 부끄럼이 없기를,\n",
      "잎새에 이는 바람에도\n",
      "너는 괴로워했다.\n",
      "별을 노래하는 마음으로\n",
      "모든 죽어가는 것을 사랑해야지\n",
      "그리고 너한테 주어진 길을\n",
      "걸어야겠다.\n",
      "오늘 밤에도 별이 바람에 스치운다.\n"
     ]
    }
   ],
   "source": [
    "strs = \"\"\"  죽는 날까지 하늘을 우러러\n",
    "한 점 부끄럼이 없기를,\n",
    "잎새에 이는 바람에도\n",
    "나는 괴로워했다.\n",
    "별을 노래하는 마음으로\n",
    "모든 죽어가는 것을 사랑해야지\n",
    "그리고 나한테 주어진 길을\n",
    "걸어야겠다.\n",
    "오늘 밤에도 별이 바람에 스치운다.   \"\"\"\n",
    "\n",
    "strs.replace(\"나\",\"너\")\n",
    "strs.strip()\n",
    "print(strs.strip().replace(\"나\",\"너\"))"
   ]
  },
  {
   "cell_type": "code",
   "execution_count": 46,
   "id": "d71cd9b2",
   "metadata": {},
   "outputs": [
    {
     "name": "stdout",
     "output_type": "stream",
     "text": [
      "Number?10 20 32 30\n",
      "32\n"
     ]
    }
   ],
   "source": [
    "num =input(\"Number?\")\n",
    "numlist= num.split()\n",
    "max = 0\n",
    "for i in range(len(numlist)):\n",
    "    if (max < int(numlist[i])):\n",
    "       max = int(numlist[i])\n",
    "print(max)"
   ]
  },
  {
   "cell_type": "code",
   "execution_count": 47,
   "id": "4ae511a7",
   "metadata": {},
   "outputs": [
    {
     "name": "stdout",
     "output_type": "stream",
     "text": [
      "efg!bcd\n",
      "abc def\n"
     ]
    }
   ],
   "source": [
    "a=\"abc def\"\n",
    "def first(strs,key):\n",
    "    newstr=\"\"\n",
    "    for i in strs:\n",
    "        code =ord(i)\n",
    "        newstr+=chr(code+key)\n",
    "    return newstr\n",
    "def second(strs,key):\n",
    "    newstr=\"\"\n",
    "    List=strs.split()\n",
    "    List.reverse()\n",
    "    newstr=\" \".join(List)\n",
    "    return first(newstr,key)\n",
    "def third(strs,key):\n",
    "    newstr=first(strs,key*-1)\n",
    "    List=newstr.split()\n",
    "    List.reverse()\n",
    "    newstr=\" \".join(List)\n",
    "    return newstr\n",
    "\n",
    "v=second(a,1)\n",
    "d=third(v,1)\n",
    "print(v)\n",
    "print(d)"
   ]
  },
  {
   "cell_type": "code",
   "execution_count": 48,
   "id": "1beefd92",
   "metadata": {},
   "outputs": [
    {
     "name": "stdout",
     "output_type": "stream",
     "text": [
      "Lines=11\n",
      "10000000001\n",
      "01000000010\n",
      "00100000100\n",
      "00010001000\n",
      "00001010000\n",
      "00000100000\n",
      "00001010000\n",
      "00010001000\n",
      "00100000100\n",
      "01000000010\n",
      "10000000001\n"
     ]
    }
   ],
   "source": [
    "line= int(input(\"Lines=\"))\n",
    "\n",
    "for i in range(line):\n",
    "    str=\"\"\n",
    "    for j in range(line):\n",
    "        if(i==j) or ((line - 1)-i == j):\n",
    "            str += \"1\"\n",
    "        else:\n",
    "            str += \"0\"\n",
    "    print(str)"
   ]
  },
  {
   "cell_type": "code",
   "execution_count": 52,
   "id": "0e02782f",
   "metadata": {},
   "outputs": [
    {
     "name": "stdout",
     "output_type": "stream",
     "text": [
      "n=2\n",
      "name?ka\n",
      "num?213\n",
      "name?qw\n",
      "num?41\n",
      "{'ka': '213', 'qw': '41'}\n"
     ]
    }
   ],
   "source": [
    "n= int(input(\"n=\"))\n",
    "book=dict()\n",
    "\n",
    "for i in range(n):\n",
    "        name=input(\"name?\")\n",
    "        num=input(\"num?\")\n",
    "        book[name]=num\n",
    "def search(book, name):\n",
    "    if num:\n",
    "        return num\n",
    "    else:\n",
    "        return \"none\"\n",
    "\n",
    "k= input(\"search\")\n",
    "print(search())"
   ]
  },
  {
   "cell_type": "code",
   "execution_count": 3,
   "id": "e0a9b7ef",
   "metadata": {},
   "outputs": [
    {
     "name": "stdout",
     "output_type": "stream",
     "text": [
      "-F /USERS/JEONGCHUNGHYO/LIBRARY/JUPYTER/RUNTIME/KERNEL-BDBAEC3A-2488-476D-A750-789C4196C487.JSON\n"
     ]
    }
   ],
   "source": [
    "import sys\n",
    "str_list=[]\n",
    "\n",
    "for arg in sys.argv[1:]:\n",
    "    str_list.append(arg.upper())\n",
    "\n",
    "print(\" \".join(str_list))\n"
   ]
  },
  {
   "cell_type": "code",
   "execution_count": null,
   "id": "31b9cb6b",
   "metadata": {},
   "outputs": [],
   "source": []
  }
 ],
 "metadata": {
  "kernelspec": {
   "display_name": "Python 3 (ipykernel)",
   "language": "python",
   "name": "python3"
  },
  "language_info": {
   "codemirror_mode": {
    "name": "ipython",
    "version": 3
   },
   "file_extension": ".py",
   "mimetype": "text/x-python",
   "name": "python",
   "nbconvert_exporter": "python",
   "pygments_lexer": "ipython3",
   "version": "3.10.4"
  }
 },
 "nbformat": 4,
 "nbformat_minor": 5
}
